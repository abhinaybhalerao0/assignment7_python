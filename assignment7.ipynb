{
 "cells": [
  {
   "cell_type": "code",
   "execution_count": 4,
   "id": "c657e78b-76fc-4f4b-ab0f-0ebf47877515",
   "metadata": {},
   "outputs": [
    {
     "name": "stdout",
     "output_type": "stream",
     "text": [
      "28\n"
     ]
    }
   ],
   "source": [
    "### 1. Write a Python Program to find sum of array?\n",
    "def sum_array(arr):\n",
    "    \n",
    "    sum = 0\n",
    "    for i in arr:\n",
    "        sum += i\n",
    "    return sum\n",
    "\n",
    "arr = [1, 2, 3, 4, 5, 6, 7]\n",
    "print(sum_array(arr))\n",
    "    "
   ]
  },
  {
   "cell_type": "code",
   "execution_count": 5,
   "id": "4569eef5-6b2e-4373-95c7-5541a24ff25c",
   "metadata": {},
   "outputs": [
    {
     "name": "stdout",
     "output_type": "stream",
     "text": [
      "458\n"
     ]
    }
   ],
   "source": [
    "### 2. Write a Python Program to find largest element in an array?\n",
    "def find_largest(arr):\n",
    "    max_element = arr[0]\n",
    "    for i in arr:\n",
    "        if i > max_element:\n",
    "            max_element = i\n",
    "    return max_element\n",
    "\n",
    "arr = [29, 87, 90, 100, 458]\n",
    "print(find_largest(arr))\n",
    "    \n",
    "    "
   ]
  },
  {
   "cell_type": "code",
   "execution_count": 8,
   "id": "28b3d273-d79e-404c-9416-4b95e2cfe610",
   "metadata": {},
   "outputs": [
    {
     "name": "stdout",
     "output_type": "stream",
     "text": [
      "[3, 4, 1, 2]\n"
     ]
    }
   ],
   "source": [
    "### 3. Write a Python Program for array rotation?\n",
    "def rotate_array(arr, k):\n",
    "    \n",
    "    rotation = k % len(arr)\n",
    "    \n",
    "    rotated_arr = arr[-rotation:] + arr[:rotation]\n",
    "    return rotated_arr\n",
    "\n",
    "arr = [1,2,3,4]\n",
    "k = 2\n",
    "rotated_arr = rotate_array(arr, k)\n",
    "print(rotated_arr)"
   ]
  },
  {
   "cell_type": "code",
   "execution_count": 9,
   "id": "8c7a723c-ed9a-436b-b712-5d66b3031a26",
   "metadata": {},
   "outputs": [
    {
     "name": "stdout",
     "output_type": "stream",
     "text": [
      "[2, 4, 5, 6, 7, 1, 3]\n"
     ]
    }
   ],
   "source": [
    "### 4. Write a Python Program to Split the array and add the first part to the end?\n",
    "def split_add_arr(arr, k):\n",
    "    \n",
    "    first_part = arr[:k]\n",
    "    second_part = arr[k:]\n",
    "    result = second_part + first_part\n",
    "    return result\n",
    "\n",
    "arr = [ 1,3,2,4,5,6,7]\n",
    "k = 2\n",
    "result = split_add_arr(arr, k)\n",
    "print(result)\n",
    "    "
   ]
  },
  {
   "cell_type": "code",
   "execution_count": null,
   "id": "ee1d18d0-1234-4fc4-8622-3d7481084927",
   "metadata": {},
   "outputs": [],
   "source": [
    "### 5. Write a Python Program to check if given array is Monotonic?\n",
    "def is_monotonic(arr):\n",
    "    \n",
    "    non_increasing = all(arr[i]>=arr[i+1] for i in range(len(arr)-1))\n",
    "    non_decreasing= all(arr[i]<=arr[i+1] for i in range(len(arr)-1))\n",
    "    \n",
    "    return non_increasing or non_decreasing\n",
    "\n",
    "arr1 = [1, 2, 3, 4, 5]\n",
    "arr2 = [5, 4, 3, 2, 1]\n",
    "arr3 = [1, 1, 2, 3, 4]\n",
    "arr4 = [1, 2, 2, 3, 4]\n",
    "print(is_monotonic(arr1))  # Output: Tru\n",
    "print(is_monotonic(arr2))  \n",
    "print(is_monotonic(arr3))  \n",
    "print(is_monotonic(arr4))"
   ]
  }
 ],
 "metadata": {
  "kernelspec": {
   "display_name": "Python 3 (ipykernel)",
   "language": "python",
   "name": "python3"
  },
  "language_info": {
   "codemirror_mode": {
    "name": "ipython",
    "version": 3
   },
   "file_extension": ".py",
   "mimetype": "text/x-python",
   "name": "python",
   "nbconvert_exporter": "python",
   "pygments_lexer": "ipython3",
   "version": "3.10.6"
  }
 },
 "nbformat": 4,
 "nbformat_minor": 5
}
